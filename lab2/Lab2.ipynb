{
 "cells": [
  {
   "cell_type": "code",
   "execution_count": 3,
   "id": "23d01ac5",
   "metadata": {},
   "outputs": [],
   "source": [
    "from scipy.optimize import linprog"
   ]
  },
  {
   "cell_type": "code",
   "execution_count": 4,
   "id": "f4474f98",
   "metadata": {},
   "outputs": [],
   "source": [
    "Loss_Function = [1, 1]"
   ]
  },
  {
   "cell_type": "code",
   "execution_count": 5,
   "id": "f9a69b55",
   "metadata": {},
   "outputs": [],
   "source": [
    "reversed_coef = [-1, -1]"
   ]
  },
  {
   "cell_type": "code",
   "execution_count": 6,
   "id": "7a6e9ac4",
   "metadata": {},
   "outputs": [],
   "source": [
    "A = [\n",
    "[2, 11],\n",
    "[1, 1],\n",
    "[4, -5]\n",
    "]\n",
    "B = [38, 7, 5]"
   ]
  },
  {
   "cell_type": "code",
   "execution_count": 7,
   "id": "9927f8eb",
   "metadata": {},
   "outputs": [],
   "source": [
    "bounds = [(0, None), (0, None)]"
   ]
  },
  {
   "cell_type": "code",
   "execution_count": 8,
   "id": "34e27804",
   "metadata": {},
   "outputs": [
    {
     "name": "stdout",
     "output_type": "stream",
     "text": [
      "1 [4.44444444 2.55555556]\n",
      "2 -7.0\n"
     ]
    },
    {
     "name": "stderr",
     "output_type": "stream",
     "text": [
      "/var/folders/sl/jd76tdwn0m13_3g8mc18gf8r0000gn/T/ipykernel_1225/3269485756.py:1: DeprecationWarning: `method='simplex'` is deprecated and will be removed in SciPy 1.11.0. Please use one of the HiGHS solvers (e.g. `method='highs'`) in new code.\n",
      "  res = linprog(reversed_coef, A_ub = A, b_ub = B, bounds = bounds, method = 'simplex')\n"
     ]
    }
   ],
   "source": [
    "res = linprog(reversed_coef, A_ub = A, b_ub = B, bounds = bounds, method = 'simplex')\n",
    "print(\"1\", res.x)\n",
    "print(\"2\", res.fun)"
   ]
  },
  {
   "cell_type": "code",
   "execution_count": null,
   "id": "630d608b",
   "metadata": {},
   "outputs": [],
   "source": []
  }
 ],
 "metadata": {
  "kernelspec": {
   "display_name": "Python 3 (ipykernel)",
   "language": "python",
   "name": "python3"
  },
  "language_info": {
   "codemirror_mode": {
    "name": "ipython",
    "version": 3
   },
   "file_extension": ".py",
   "mimetype": "text/x-python",
   "name": "python",
   "nbconvert_exporter": "python",
   "pygments_lexer": "ipython3",
   "version": "3.11.4"
  }
 },
 "nbformat": 4,
 "nbformat_minor": 5
}

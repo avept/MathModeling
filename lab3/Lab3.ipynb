{
 "cells": [
  {
   "cell_type": "code",
   "execution_count": 1,
   "id": "f77ea209",
   "metadata": {},
   "outputs": [],
   "source": [
    "import matplotlib.pyplot as plt\n",
    "import random "
   ]
  },
  {
   "cell_type": "code",
   "execution_count": 2,
   "id": "d4e760fa",
   "metadata": {},
   "outputs": [],
   "source": [
    "x1 = [0, 4, 4]\n",
    "y1 = [4, 4, 0]\n",
    "\n",
    "x2 = [0, 1, 1, 0]\n",
    "y2 = [1, 1, 3, 3]\n",
    "\n",
    "x3 = [3, 4, 4, 3]\n",
    "y3 = [0, 0, 2, 2]\n",
    "\n",
    "x4 = [0, 0, 4, 4]\n",
    "y4 = [3, 4, 4, 3]\n"
   ]
  },
  {
   "cell_type": "code",
   "execution_count": 3,
   "id": "72047f7e",
   "metadata": {},
   "outputs": [],
   "source": [
    "color1 = 'black'\n",
    "color2 = 'white'"
   ]
  },
  {
   "cell_type": "code",
   "execution_count": 4,
   "id": "e6d07a62",
   "metadata": {
    "scrolled": true
   },
   "outputs": [
    {
     "data": {
      "text/plain": [
       "[<matplotlib.patches.Polygon at 0x10c6f6dd0>]"
      ]
     },
     "execution_count": 4,
     "metadata": {},
     "output_type": "execute_result"
    },
    {
     "data": {
      "image/png": "[encoded data removed]",
      "text/plain": [
       "<Figure size 640x480 with 1 Axes>"
      ]
     },
     "metadata": {},
     "output_type": "display_data"
    }
   ],
   "source": [
    "plt.step(x1, y1, where = 'post', color = color2)\n",
    "plt.fill_between(x1, y1, step = 'post', color = color1)\n",
    "\n",
    "plt.plot(x2, y2, color = color2)\n",
    "plt.fill(x2, y2, color = 'white')\n",
    "\n",
    "plt.plot(x3, y3, color = color2)\n",
    "plt.fill(x3, y3, color = 'white')\n",
    "\n",
    "plt.plot(x4, y4, color = color2)\n",
    "plt.fill(x4, y4, color = 'white')"
   ]
  },
  {
   "cell_type": "code",
   "execution_count": 5,
   "id": "d0b4fd80",
   "metadata": {},
   "outputs": [],
   "source": [
    "S_general = max(x1) * max(y1)\n",
    "N = 15000\n",
    "P = 0"
   ]
  },
  {
   "cell_type": "code",
   "execution_count": 6,
   "id": "66754db5",
   "metadata": {},
   "outputs": [],
   "source": [
    "i = 0\n",
    "while i < N:\n",
    "    random_x = random.uniform(min(x1), max(x1))\n",
    "    random_y = random.uniform(min(y1), max(y1))\n",
    "    \n",
    "    point_in_region1 = (random_x >= min(x1)) and (random_x <= max(x1)) and (random_y >= min(y1)) and (random_y <= max(y1))\n",
    "    point_not_in_region2 = not ((random_x > min(x2)) and (random_x < max(x2)) and (random_y > min(y2)) and (random_y < max(y2)))\n",
    "    point_not_in_region3 = not ((random_x > min(x3)) and (random_x < max(x3)) and (random_y > min(y3)) and (random_y < max(y3)))\n",
    "    point_not_in_region4 = not ((random_x > min(x4)) and (random_x < max(x4)) and (random_y > min(y4)) and (random_y < max(y4)))\n",
    "\n",
    "    \n",
    "    if point_in_region1 and point_not_in_region2 and point_not_in_region3 and point_not_in_region4:\n",
    "        P += 1\n",
    "    i += 1"
   ]
  },
  {
   "cell_type": "code",
   "execution_count": 7,
   "id": "1c5c1f13",
   "metadata": {},
   "outputs": [],
   "source": [
    "S = (P * S_general) / N"
   ]
  },
  {
   "cell_type": "code",
   "execution_count": 8,
   "id": "fc99f085",
   "metadata": {},
   "outputs": [
    {
     "name": "stdout",
     "output_type": "stream",
     "text": [
      "7.973333333333334\n"
     ]
    }
   ],
   "source": [
    "print(S)"
   ]
  },
  {
   "cell_type": "code",
   "execution_count": null,
   "id": "e5c39308",
   "metadata": {},
   "outputs": [],
   "source": []
  },
  {
   "cell_type": "code",
   "execution_count": null,
   "id": "2ce49649",
   "metadata": {},
   "outputs": [],
   "source": []
  }
 ],
 "metadata": {
  "kernelspec": {
   "display_name": "Python 3 (ipykernel)",
   "language": "python",
   "name": "python3"
  },
  "language_info": {
   "codemirror_mode": {
    "name": "ipython",
    "version": 3
   },
   "file_extension": ".py",
   "mimetype": "text/x-python",
   "name": "python",
   "nbconvert_exporter": "python",
   "pygments_lexer": "ipython3",
   "version": "3.11.4"
  }
 },
 "nbformat": 4,
 "nbformat_minor": 5
}
